{
  "nbformat": 4,
  "nbformat_minor": 0,
  "metadata": {
    "colab": {
      "provenance": []
    },
    "kernelspec": {
      "name": "python3",
      "display_name": "Python 3"
    },
    "language_info": {
      "name": "python"
    }
  },
  "cells": [
    {
      "cell_type": "code",
      "execution_count": null,
      "metadata": {
        "id": "VKXaP9ey9h0I"
      },
      "outputs": [],
      "source": [
        "import numpy as np\n",
        "import matplotlib.pyplot as plt\n",
        "from mpl_toolkits.mplot3d import Axes3D\n",
        "class plot_error_surface(object):\n",
        "  def __init__(self,w_range,b_range,X,Y,n_samples=30,go=True):\n",
        "    W = np.linspace(-w_range,  w_range , n_samples)\n",
        "    B = np.linspace(-b_range, b_range, n_samples)\n",
        "    w, b = np.meshgrid(W,B)\n",
        "    Z = np.zeros((30,30))\n",
        "    count1 = 0\n",
        "    self.y = Y.numpy()\n",
        "    self.x = X.numpy()\n",
        "    for w1 , b1 in zip(w, b):\n",
        "      count2 = 0\n",
        "      for w2 ,b2 in zip(w2,b2):\n",
        "        yhat = 1/ (1+ np.exp(-1*(w2*self.x+b2)))\n",
        "        Z[count1,count2] = -1 *np.mean(self.y*np.log(yhat+1e-16)+(1-self.y)*np.log(1-yhat+1e-16))\n",
        "        count2+=1\n",
        "      count1 +=1\n",
        "    self.Z = Z\n",
        "    self.w = w\n",
        "    self.b=b\n",
        "    self.W=[]\n",
        "    self.B=[]\n",
        "    self.LOSS  = []\n",
        "    self.n = 0\n",
        "    if go == True:\n",
        "      plt.figure()\n",
        "      plt.figure(figsize=(7.5,5))\n",
        "      plt.axes(projection=\"3d\").plot_surface(self.w,self.b,self.Z,rstride=1,cstride =1 , cmap = \"viridis\", edgecolor= \"none\")\n",
        "      plt.title(\"loss Surface\")\n",
        "      plt.xlabel(\"w\")\n",
        "      plt.ylabel(\"b\")\n",
        "      plt.contour(self.w,self.b,self.Z)\n",
        "      plt.show()\n",
        "\n",
        "      #Setter\n",
        "      def set_para_loss(self, model, loss):\n",
        "        self.n = self.n + 1\n",
        "        self.W.append(list(model.parameters())[0].item())\n",
        "        self.B.append(list(model.parameters())[1].item())\n",
        "        self.Loss.append(loss)\n",
        "\n",
        "      def final_plot(Self):\n",
        "        ax= plt.axes(projection = \"3d\")\n",
        "        ax.plot_wireframe(self.w,self.b,self.Z)\n",
        "        ax.scatter(self.W, self.B, self.LOSS, c=\"r\", marker =\"x\", s=200 , alpha =1 )\n",
        "        plt.figure()\n",
        "        plt.contour(self.w,self.b,self.Z)\n",
        "        plt.scatter(self.W , self.B , c=\"r\", marker =\"x\")\n",
        "        plt.xlabel(\"w\")\n",
        "        plt.ylabel(\"b\")\n",
        "        plt.show()\n",
        "\n",
        "      def plot_ps(self):\n",
        "        plt.subplot(121)\n",
        "        plt.ylim\n",
        "        plt.plot(self.x[self.y==0], self.y[self.y==0],\"ro\",label = \"Training points\")\n",
        "        plt.plot(self.x[self.y==1],self.y[self.y==1]-1,\"o\", label =\"Training points\")\n",
        "        plt.plot(self.x, self.W[-1]* self.x + self.B[-1], label = \"estimated line\")\n",
        "        plt.xlabel(\"x\")\n",
        "        plt.ylabel(\"y\")\n",
        "        plt.lim((-0.1,2))\n",
        "        plt.title(\"Data Space Iteration\" + str(self.n))\n",
        "        plt.xlabel(\"w\")\n",
        "        plt.ylabel(\"b\")\n",
        "\n",
        "\n",
        "      def PlotStuff(X,Y , model , epoch , leg =True):\n",
        "        plt.plot(X.numpy(), model(X).detach().numpy(), label=(\"epoch\"+str(epoch)))\n",
        "        plt.plot(X.numpy(), Y.numpy(),\"r\")\n",
        "        if leg == True:\n",
        "          plt.legend()\n",
        "        else:\n",
        "          pass\n",
        "\n",
        "\n",
        "\n",
        "\n",
        "\n",
        "\n"
      ]
    },
    {
      "cell_type": "code",
      "source": [
        "from torch.utils.data import Dataset, DataLoader\n",
        "import torch\n",
        "\n",
        "class Data(Dataset):\n",
        "\n",
        "  def __init__(self) :\n",
        "    self.x = torch.arange(-1,1,0.1).view(-1,1)\n",
        "    self.y = torch.zeros (self.x.shape[0],1)\n",
        "    self.y[self.x[:,0] > 0.2] = 1\n",
        "    self.len = self.x.shape[0]\n",
        "\n",
        "  def __getitem__(self,index):\n",
        "    return self.x[index], self.y[index]\n",
        "\n",
        "  def __len__(self):\n",
        "    return self.len\n"
      ],
      "metadata": {
        "id": "az9nKREGB25o"
      },
      "execution_count": null,
      "outputs": []
    },
    {
      "cell_type": "code",
      "source": [
        "data_set = Data()"
      ],
      "metadata": {
        "id": "01286APQB9FT"
      },
      "execution_count": null,
      "outputs": []
    },
    {
      "cell_type": "code",
      "source": [
        "data_set.x"
      ],
      "metadata": {
        "colab": {
          "base_uri": "https://localhost:8080/"
        },
        "id": "bFlEjQo-fD65",
        "outputId": "c09b4b48-215f-41a3-e432-7ed60f29b039"
      },
      "execution_count": null,
      "outputs": [
        {
          "output_type": "execute_result",
          "data": {
            "text/plain": [
              "tensor([[-1.0000e+00],\n",
              "        [-9.0000e-01],\n",
              "        [-8.0000e-01],\n",
              "        [-7.0000e-01],\n",
              "        [-6.0000e-01],\n",
              "        [-5.0000e-01],\n",
              "        [-4.0000e-01],\n",
              "        [-3.0000e-01],\n",
              "        [-2.0000e-01],\n",
              "        [-1.0000e-01],\n",
              "        [-2.9802e-09],\n",
              "        [ 1.0000e-01],\n",
              "        [ 2.0000e-01],\n",
              "        [ 3.0000e-01],\n",
              "        [ 4.0000e-01],\n",
              "        [ 5.0000e-01],\n",
              "        [ 6.0000e-01],\n",
              "        [ 7.0000e-01],\n",
              "        [ 8.0000e-01],\n",
              "        [ 9.0000e-01]])"
            ]
          },
          "metadata": {},
          "execution_count": 13
        }
      ]
    },
    {
      "cell_type": "code",
      "source": [
        "data_set.y"
      ],
      "metadata": {
        "colab": {
          "base_uri": "https://localhost:8080/"
        },
        "id": "7qhAy7JTfSlo",
        "outputId": "82c9db60-a53d-4340-939a-5008b45840e8"
      },
      "execution_count": null,
      "outputs": [
        {
          "output_type": "execute_result",
          "data": {
            "text/plain": [
              "tensor([[0.],\n",
              "        [0.],\n",
              "        [0.],\n",
              "        [0.],\n",
              "        [0.],\n",
              "        [0.],\n",
              "        [0.],\n",
              "        [0.],\n",
              "        [0.],\n",
              "        [0.],\n",
              "        [0.],\n",
              "        [0.],\n",
              "        [0.],\n",
              "        [1.],\n",
              "        [1.],\n",
              "        [1.],\n",
              "        [1.],\n",
              "        [1.],\n",
              "        [1.],\n",
              "        [1.]])"
            ]
          },
          "metadata": {},
          "execution_count": 15
        }
      ]
    },
    {
      "cell_type": "code",
      "source": [
        "len(data_set)"
      ],
      "metadata": {
        "colab": {
          "base_uri": "https://localhost:8080/"
        },
        "id": "kXH7mmm5fZXQ",
        "outputId": "5e026588-47e3-46e9-a5cc-ac749b755f39"
      },
      "execution_count": null,
      "outputs": [
        {
          "output_type": "execute_result",
          "data": {
            "text/plain": [
              "20"
            ]
          },
          "metadata": {},
          "execution_count": 16
        }
      ]
    },
    {
      "cell_type": "code",
      "source": [
        "x,y = data_set[0]\n",
        "print(f\"x={x} , y = {y}\")"
      ],
      "metadata": {
        "colab": {
          "base_uri": "https://localhost:8080/"
        },
        "id": "LonO0z5WfeQ8",
        "outputId": "bcf65857-2cf3-4047-faad-8e2eb7b430df"
      },
      "execution_count": null,
      "outputs": [
        {
          "output_type": "stream",
          "name": "stdout",
          "text": [
            "x=tensor([-1.]) , y = tensor([0.])\n"
          ]
        }
      ]
    },
    {
      "cell_type": "code",
      "source": [
        "plt.plot(data_set.x[data_set.y==0], data_set.y[data_set.y==0],\"ro\", label = \"y=0\")\n",
        "plt.plot(data_set.x[data_set.y==1], data_set.y[data_set.y==1]-1,\"o\", label=\"y=1\")\n",
        "plt.xlabel(\"x\")\n",
        "plt.legend()"
      ],
      "metadata": {
        "colab": {
          "base_uri": "https://localhost:8080/",
          "height": 466
        },
        "id": "nrqiNNU-fydk",
        "outputId": "1c4411bd-a07b-4f81-a629-c17da59a34db"
      },
      "execution_count": null,
      "outputs": [
        {
          "output_type": "execute_result",
          "data": {
            "text/plain": [
              "<matplotlib.legend.Legend at 0x790cf1cf2140>"
            ]
          },
          "metadata": {},
          "execution_count": 19
        },
        {
          "output_type": "display_data",
          "data": {
            "text/plain": [
              "<Figure size 640x480 with 1 Axes>"
            ],
            "image/png": "[encoded data removed]"
          },
          "metadata": {}
        }
      ]
    },
    {
      "cell_type": "code",
      "source": [],
      "metadata": {
        "id": "GH8aITXzhaYQ"
      },
      "execution_count": null,
      "outputs": []
    }
  ]
}